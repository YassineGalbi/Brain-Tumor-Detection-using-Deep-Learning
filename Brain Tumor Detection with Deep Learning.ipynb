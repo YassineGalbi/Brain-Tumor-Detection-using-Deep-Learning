{
 "cells": [
  {
   "cell_type": "markdown",
   "id": "7fc95829",
   "metadata": {},
   "source": [
    "   # Détection des tumeurs cérébrales (Cancer) en utilisant le Deep Learning"
   ]
  },
  {
   "cell_type": "markdown",
   "id": "6a9a8b33",
   "metadata": {},
   "source": [
    "####  Le but de ce projet est de développer un modèle à l'aide de réseaux neuronaux à convolution ( CNN ) qui détecte si une image IRM (imagerie par résonance magnétique) contient un tumeur cérébrale ou pas, puis d'amilorer les performances du notre modèle en utilisant des architectures pré-entraînés ( Transfer Learning )"
   ]
  },
  {
   "cell_type": "code",
   "execution_count": 1,
   "id": "d882ca4a",
   "metadata": {},
   "outputs": [],
   "source": [
    "import warnings\n",
    "warnings.filterwarnings('ignore')"
   ]
  },
  {
   "cell_type": "code",
   "execution_count": 2,
   "id": "9c05b224",
   "metadata": {},
   "outputs": [],
   "source": [
    "import numpy as np\n",
    "import matplotlib.pyplot as plt\n",
    "import os\n",
    "import math\n",
    "import shutil\n",
    "import glob"
   ]
  },
  {
   "cell_type": "markdown",
   "id": "c1cc5552",
   "metadata": {},
   "source": [
    "Compter le nombre d'images dans les classes respactives 0 - tumeur cérébrale et 1- sain\n",
    "* 4500 images\n",
    "* 2457 images avec tumeur(cancer) cérébrale \n",
    "* 2043 images sains"
   ]
  },
  {
   "cell_type": "code",
   "execution_count": 3,
   "id": "f4494a4a",
   "metadata": {},
   "outputs": [],
   "source": [
    "ROOT_DIR = \"C:/Users/zied galbi/BrainTumorData/Brain Tumor Data Set\" \n",
    "number_of_images = {}\n",
    "\n",
    "for dir in os.listdir(ROOT_DIR):\n",
    "    number_of_images[dir] = len(os.listdir(os.path.join(ROOT_DIR, dir)))\n",
    "\n",
    " "
   ]
  },
  {
   "cell_type": "code",
   "execution_count": 4,
   "id": "5c5409e9",
   "metadata": {},
   "outputs": [
    {
     "data": {
      "text/plain": [
       "dict_items([('Brain Tumor', 2), ('Healthey', 1)])"
      ]
     },
     "execution_count": 4,
     "metadata": {},
     "output_type": "execute_result"
    }
   ],
   "source": [
    "number_of_images.items()"
   ]
  },
  {
   "cell_type": "markdown",
   "id": "5afbb7f2",
   "metadata": {},
   "source": [
    "we will split the data such that\n",
    "\n",
    "   * 70 % for train data\n",
    "   * 15 % for validation\n",
    "   * 15 % for testing"
   ]
  },
  {
   "cell_type": "code",
   "execution_count": 5,
   "id": "60441346",
   "metadata": {},
   "outputs": [],
   "source": [
    "def dataFolder(p,split):\n",
    "    # we will create a train folder\n",
    "\n",
    "    if not os.path.exists(\"C:/Users/zied galbi/\"+p):\n",
    "        os.mkdir(\"C:/Users/zied galbi/\"+p)\n",
    "    \n",
    "        for dir in os.listdir(ROOT_DIR):\n",
    "            os.makedirs(\"C:/Users/zied galbi/\"+p+\"/\"+dir)\n",
    "            for img in np.random.choice(a=os.listdir(os.path.join(ROOT_DIR, dir) ),\n",
    "                                       size = (math.floor(split*number_of_images[dir])),\n",
    "                                        replace = False ):\n",
    "                O = os.path.join(ROOT_DIR,dir,img)\n",
    "                D = os.path.join(\"C:/Users/zied galbi/\"+p,dir)\n",
    "                shutil.copy(O,D)  \n",
    "                os.remove(O)\n",
    "    else:\n",
    "        print(f\"{p} Folder exists\")\n",
    "    "
   ]
  },
  {
   "cell_type": "code",
   "execution_count": 6,
   "id": "87fbf1fb",
   "metadata": {},
   "outputs": [
    {
     "name": "stdout",
     "output_type": "stream",
     "text": [
      "train Folder exists\n"
     ]
    }
   ],
   "source": [
    "dataFolder(\"train\",0.7)"
   ]
  },
  {
   "cell_type": "code",
   "execution_count": 7,
   "id": "54b3a6d1",
   "metadata": {},
   "outputs": [
    {
     "name": "stdout",
     "output_type": "stream",
     "text": [
      "val Folder exists\n"
     ]
    }
   ],
   "source": [
    "dataFolder(\"val\",0.15)"
   ]
  },
  {
   "cell_type": "code",
   "execution_count": 8,
   "id": "6b514866",
   "metadata": {},
   "outputs": [
    {
     "name": "stdout",
     "output_type": "stream",
     "text": [
      "test Folder exists\n"
     ]
    }
   ],
   "source": [
    "dataFolder(\"test\",0.15)"
   ]
  },
  {
   "cell_type": "markdown",
   "id": "e4340446",
   "metadata": {},
   "source": [
    "## CNN Model Build"
   ]
  },
  {
   "cell_type": "markdown",
   "id": "4c71e6a8",
   "metadata": {},
   "source": [
    "Importer les librairies indispensables"
   ]
  },
  {
   "cell_type": "code",
   "execution_count": 22,
   "id": "e98b9fb7",
   "metadata": {},
   "outputs": [],
   "source": [
    "from keras.layers import Conv2D, MaxPool2D, Dropout, Flatten, Dense, BatchNormalization, GlobalAvgPool2D\n",
    "from keras.models import Sequential\n",
    "from keras.preprocessing.image import ImageDataGenerator\n",
    "import keras"
   ]
  },
  {
   "cell_type": "markdown",
   "id": "4ae85904",
   "metadata": {},
   "source": [
    "Construire le modèle"
   ]
  },
  {
   "cell_type": "code",
   "execution_count": 20,
   "id": "45f64e6b",
   "metadata": {},
   "outputs": [
    {
     "name": "stdout",
     "output_type": "stream",
     "text": [
      "Model: \"sequential_4\"\n",
      "_________________________________________________________________\n",
      "Layer (type)                 Output Shape              Param #   \n",
      "=================================================================\n",
      "conv2d (Conv2D)              (None, 222, 222, 16)      448       \n",
      "_________________________________________________________________\n",
      "conv2d_1 (Conv2D)            (None, 220, 220, 36)      5220      \n",
      "_________________________________________________________________\n",
      "max_pooling2d (MaxPooling2D) (None, 110, 110, 36)      0         \n",
      "_________________________________________________________________\n",
      "conv2d_2 (Conv2D)            (None, 108, 108, 64)      20800     \n",
      "_________________________________________________________________\n",
      "max_pooling2d_1 (MaxPooling2 (None, 54, 54, 64)        0         \n",
      "_________________________________________________________________\n",
      "conv2d_3 (Conv2D)            (None, 52, 52, 128)       73856     \n",
      "_________________________________________________________________\n",
      "max_pooling2d_2 (MaxPooling2 (None, 26, 26, 128)       0         \n",
      "_________________________________________________________________\n",
      "dropout (Dropout)            (None, 26, 26, 128)       0         \n",
      "_________________________________________________________________\n",
      "flatten (Flatten)            (None, 86528)             0         \n",
      "_________________________________________________________________\n",
      "dense (Dense)                (None, 64)                5537856   \n",
      "_________________________________________________________________\n",
      "dropout_1 (Dropout)          (None, 64)                0         \n",
      "_________________________________________________________________\n",
      "dense_1 (Dense)              (None, 1)                 65        \n",
      "=================================================================\n",
      "Total params: 5,638,245\n",
      "Trainable params: 5,638,245\n",
      "Non-trainable params: 0\n",
      "_________________________________________________________________\n"
     ]
    }
   ],
   "source": [
    "# CNN Model\n",
    "# 4 Convolutional layers\n",
    "# 3 pooling Layers\n",
    "\n",
    "model = Sequential()\n",
    "\n",
    "model.add(Conv2D(filters = 16, kernel_size= (3,3), activation = 'relu', input_shape = (224,224,3) ))\n",
    "\n",
    "model.add(Conv2D(filters = 36, kernel_size= (3,3), activation = 'relu'))\n",
    "model.add(MaxPool2D(pool_size=(2,2)))\n",
    "\n",
    "model.add(Conv2D(filters = 64, kernel_size= (3,3), activation = 'relu'))\n",
    "model.add(MaxPool2D(pool_size=(2,2)))\n",
    "\n",
    "model.add(Conv2D(filters = 128, kernel_size= (3,3), activation = 'relu'))\n",
    "model.add(MaxPool2D(pool_size=(2,2)))\n",
    "\n",
    "model.add(Dropout(rate=0.25))\n",
    "\n",
    "model.add(Flatten())\n",
    "model.add(Dense(units=64, activation = \"relu\"))\n",
    "model.add(Dropout(rate=0.25))\n",
    "model.add(Dense(units=1, activation = \"sigmoid\"))\n",
    "\n",
    "model.summary()"
   ]
  },
  {
   "cell_type": "markdown",
   "id": "e74ce289",
   "metadata": {},
   "source": [
    "Compiler le modèle"
   ]
  },
  {
   "cell_type": "code",
   "execution_count": 21,
   "id": "6e1070b6",
   "metadata": {},
   "outputs": [],
   "source": [
    "model.compile(optimizer='adam', loss = keras.losses.binary_crossentropy, metrics=['accuracy'])"
   ]
  },
  {
   "cell_type": "markdown",
   "id": "c6695a20",
   "metadata": {},
   "source": [
    "## Images Pre-Processing"
   ]
  },
  {
   "cell_type": "markdown",
   "id": "33a3b77c",
   "metadata": {},
   "source": [
    "Préparer nos données à l'aide du générateur de données (Data Generator)"
   ]
  },
  {
   "cell_type": "code",
   "execution_count": 30,
   "id": "2ddb0f4e",
   "metadata": {},
   "outputs": [],
   "source": [
    "def  preprocessingImages1(path):\n",
    "    \"\"\"\n",
    "    input : path\n",
    "    output : Pre processed images\n",
    "    \"\"\"\n",
    "    image_data = ImageDataGenerator(zoom_range = 0.2, shear_range= 0.2, rescale= 1/255, horizontal_flip= True )  # data augmentation\n",
    "    image = image_data.flow_from_directory(directory = path, target_size= (224,224), batch_size = 32, class_mode = 'binary')\n",
    "    \n",
    "    return image"
   ]
  },
  {
   "cell_type": "code",
   "execution_count": 31,
   "id": "114f8bd3",
   "metadata": {},
   "outputs": [
    {
     "name": "stdout",
     "output_type": "stream",
     "text": [
      "Found 3151 images belonging to 2 classes.\n"
     ]
    }
   ],
   "source": [
    "path = \"C:/Users/zied galbi/train\"\n",
    "train_data = preprocessingImages1(path)\n"
   ]
  },
  {
   "cell_type": "code",
   "execution_count": 25,
   "id": "54d88176",
   "metadata": {},
   "outputs": [],
   "source": [
    "def  preprocessingImages2(path):\n",
    "    \"\"\"\n",
    "    input : path\n",
    "    output : Pre processed images\n",
    "    \"\"\"\n",
    "    image_data = ImageDataGenerator(rescale= 1/255)\n",
    "    image = image_data.flow_from_directory(directory = path, target_size= (224,224), batch_size = 32, class_mode = 'binary')\n",
    "    \n",
    "    return image"
   ]
  },
  {
   "cell_type": "code",
   "execution_count": 32,
   "id": "bd7c829f",
   "metadata": {},
   "outputs": [
    {
     "name": "stdout",
     "output_type": "stream",
     "text": [
      "Found 674 images belonging to 2 classes.\n"
     ]
    }
   ],
   "source": [
    "path = \"C:/Users/zied galbi/val\"\n",
    "val_data = preprocessingImages2(path)"
   ]
  },
  {
   "cell_type": "code",
   "execution_count": 33,
   "id": "7cd5e057",
   "metadata": {},
   "outputs": [
    {
     "name": "stdout",
     "output_type": "stream",
     "text": [
      "Found 674 images belonging to 2 classes.\n"
     ]
    }
   ],
   "source": [
    "path = \"C:/Users/zied galbi/test\"\n",
    "test_data = preprocessingImages2(path)"
   ]
  },
  {
   "cell_type": "code",
   "execution_count": 35,
   "id": "5422a1bd",
   "metadata": {},
   "outputs": [],
   "source": [
    "# Early stopping and model check point\n",
    "\n",
    "from keras.callbacks import ModelCheckpoint, EarlyStopping\n",
    "\n",
    "# early stopping \n",
    "\n",
    "es = EarlyStopping(monitor = 'val_accuracy', min_delta= 0.01, patience= 6, verbose = 1, mode= 'auto')\n",
    "\n",
    "# model check point\n",
    "\n",
    "mc = ModelCheckpoint(monitor = 'val_accuracy',filepath='C:/Users/zied galbi/bestmodel.h5' , verbose = 1, save_best_only= True, mode= 'auto')\n",
    "\n",
    "cb = [es, mc]"
   ]
  },
  {
   "cell_type": "markdown",
   "id": "93737335",
   "metadata": {},
   "source": [
    "## Model Training"
   ]
  },
  {
   "cell_type": "code",
   "execution_count": 37,
   "id": "d8418303",
   "metadata": {},
   "outputs": [
    {
     "name": "stdout",
     "output_type": "stream",
     "text": [
      "WARNING:tensorflow:From <ipython-input-37-4190e26ddeef>:1: Model.fit_generator (from tensorflow.python.keras.engine.training) is deprecated and will be removed in a future version.\n",
      "Instructions for updating:\n",
      "Please use Model.fit, which supports generators.\n",
      "Epoch 1/30\n",
      "8/8 [==============================] - ETA: 0s - loss: 0.9629 - accuracy: 0.5000\n",
      "Epoch 00001: val_accuracy improved from -inf to 0.54883, saving model to C:/Users/zied galbi\\bestmodel.h5\n",
      "8/8 [==============================] - 46s 6s/step - loss: 0.9629 - accuracy: 0.5000 - val_loss: 0.6766 - val_accuracy: 0.5488\n",
      "Epoch 2/30\n",
      "8/8 [==============================] - ETA: 0s - loss: 0.6914 - accuracy: 0.5146\n",
      "Epoch 00002: val_accuracy did not improve from 0.54883\n",
      "8/8 [==============================] - 42s 5s/step - loss: 0.6914 - accuracy: 0.5146 - val_loss: 0.7129 - val_accuracy: 0.5391\n",
      "Epoch 3/30\n",
      "8/8 [==============================] - ETA: 0s - loss: 0.6912 - accuracy: 0.5625\n",
      "Epoch 00003: val_accuracy improved from 0.54883 to 0.60938, saving model to C:/Users/zied galbi\\bestmodel.h5\n",
      "8/8 [==============================] - 41s 5s/step - loss: 0.6912 - accuracy: 0.5625 - val_loss: 0.6697 - val_accuracy: 0.6094\n",
      "Epoch 4/30\n",
      "8/8 [==============================] - ETA: 0s - loss: 0.6762 - accuracy: 0.5547\n",
      "Epoch 00004: val_accuracy improved from 0.60938 to 0.61328, saving model to C:/Users/zied galbi\\bestmodel.h5\n",
      "8/8 [==============================] - 41s 5s/step - loss: 0.6762 - accuracy: 0.5547 - val_loss: 0.6522 - val_accuracy: 0.6133\n",
      "Epoch 5/30\n",
      "8/8 [==============================] - ETA: 0s - loss: 0.6440 - accuracy: 0.5397\n",
      "Epoch 00005: val_accuracy improved from 0.61328 to 0.61914, saving model to C:/Users/zied galbi\\bestmodel.h5\n",
      "8/8 [==============================] - 39s 5s/step - loss: 0.6440 - accuracy: 0.5397 - val_loss: 0.6726 - val_accuracy: 0.6191\n",
      "Epoch 6/30\n",
      "8/8 [==============================] - ETA: 0s - loss: 0.6355 - accuracy: 0.6289\n",
      "Epoch 00006: val_accuracy did not improve from 0.61914\n",
      "8/8 [==============================] - 40s 5s/step - loss: 0.6355 - accuracy: 0.6289 - val_loss: 0.6047 - val_accuracy: 0.6191\n",
      "Epoch 7/30\n",
      "8/8 [==============================] - ETA: 0s - loss: 0.6250 - accuracy: 0.6695\n",
      "Epoch 00007: val_accuracy improved from 0.61914 to 0.73828, saving model to C:/Users/zied galbi\\bestmodel.h5\n",
      "8/8 [==============================] - 40s 5s/step - loss: 0.6250 - accuracy: 0.6695 - val_loss: 0.5738 - val_accuracy: 0.7383\n",
      "Epoch 8/30\n",
      "8/8 [==============================] - ETA: 0s - loss: 0.6120 - accuracy: 0.6875\n",
      "Epoch 00008: val_accuracy did not improve from 0.73828\n",
      "8/8 [==============================] - 42s 5s/step - loss: 0.6120 - accuracy: 0.6875 - val_loss: 0.5758 - val_accuracy: 0.7383\n",
      "Epoch 9/30\n",
      "8/8 [==============================] - ETA: 0s - loss: 0.5843 - accuracy: 0.6953\n",
      "Epoch 00009: val_accuracy did not improve from 0.73828\n",
      "8/8 [==============================] - 41s 5s/step - loss: 0.5843 - accuracy: 0.6953 - val_loss: 0.6133 - val_accuracy: 0.6621\n",
      "Epoch 10/30\n",
      "8/8 [==============================] - ETA: 0s - loss: 0.5944 - accuracy: 0.6875\n",
      "Epoch 00010: val_accuracy did not improve from 0.73828\n",
      "8/8 [==============================] - 41s 5s/step - loss: 0.5944 - accuracy: 0.6875 - val_loss: 0.5480 - val_accuracy: 0.7285\n",
      "Epoch 11/30\n",
      "8/8 [==============================] - ETA: 0s - loss: 0.5902 - accuracy: 0.7227\n",
      "Epoch 00011: val_accuracy did not improve from 0.73828\n",
      "8/8 [==============================] - 41s 5s/step - loss: 0.5902 - accuracy: 0.7227 - val_loss: 0.5467 - val_accuracy: 0.7246\n",
      "Epoch 12/30\n",
      "8/8 [==============================] - ETA: 0s - loss: 0.5869 - accuracy: 0.6758\n",
      "Epoch 00012: val_accuracy improved from 0.73828 to 0.74219, saving model to C:/Users/zied galbi\\bestmodel.h5\n",
      "8/8 [==============================] - 41s 5s/step - loss: 0.5869 - accuracy: 0.6758 - val_loss: 0.5120 - val_accuracy: 0.7422\n",
      "Epoch 13/30\n",
      "8/8 [==============================] - ETA: 0s - loss: 0.5529 - accuracy: 0.6953\n",
      "Epoch 00013: val_accuracy improved from 0.74219 to 0.75000, saving model to C:/Users/zied galbi\\bestmodel.h5\n",
      "8/8 [==============================] - 48s 6s/step - loss: 0.5529 - accuracy: 0.6953 - val_loss: 0.5464 - val_accuracy: 0.7500\n",
      "Epoch 14/30\n",
      "8/8 [==============================] - ETA: 0s - loss: 0.6248 - accuracy: 0.6445\n",
      "Epoch 00014: val_accuracy improved from 0.75000 to 0.82227, saving model to C:/Users/zied galbi\\bestmodel.h5\n",
      "8/8 [==============================] - 47s 6s/step - loss: 0.6248 - accuracy: 0.6445 - val_loss: 0.4874 - val_accuracy: 0.8223\n",
      "Epoch 15/30\n",
      "8/8 [==============================] - ETA: 0s - loss: 0.5471 - accuracy: 0.7461\n",
      "Epoch 00015: val_accuracy did not improve from 0.82227\n",
      "8/8 [==============================] - 46s 6s/step - loss: 0.5471 - accuracy: 0.7461 - val_loss: 0.5220 - val_accuracy: 0.7637\n",
      "Epoch 16/30\n",
      "8/8 [==============================] - ETA: 0s - loss: 0.5898 - accuracy: 0.6953\n",
      "Epoch 00016: val_accuracy did not improve from 0.82227\n",
      "8/8 [==============================] - 46s 6s/step - loss: 0.5898 - accuracy: 0.6953 - val_loss: 0.4872 - val_accuracy: 0.8066\n",
      "Epoch 17/30\n",
      "8/8 [==============================] - ETA: 0s - loss: 0.5689 - accuracy: 0.6992\n",
      "Epoch 00017: val_accuracy did not improve from 0.82227\n",
      "8/8 [==============================] - 47s 6s/step - loss: 0.5689 - accuracy: 0.6992 - val_loss: 0.5407 - val_accuracy: 0.7109\n",
      "Epoch 18/30\n",
      "8/8 [==============================] - ETA: 0s - loss: 0.5857 - accuracy: 0.6695\n",
      "Epoch 00018: val_accuracy did not improve from 0.82227\n",
      "8/8 [==============================] - 44s 6s/step - loss: 0.5857 - accuracy: 0.6695 - val_loss: 0.5290 - val_accuracy: 0.7344\n",
      "Epoch 19/30\n",
      "8/8 [==============================] - ETA: 0s - loss: 0.5328 - accuracy: 0.7305\n",
      "Epoch 00019: val_accuracy did not improve from 0.82227\n",
      "8/8 [==============================] - 46s 6s/step - loss: 0.5328 - accuracy: 0.7305 - val_loss: 0.4349 - val_accuracy: 0.8203\n",
      "Epoch 20/30\n",
      "8/8 [==============================] - ETA: 0s - loss: 0.4384 - accuracy: 0.7930\n",
      "Epoch 00020: val_accuracy did not improve from 0.82227\n",
      "8/8 [==============================] - 46s 6s/step - loss: 0.4384 - accuracy: 0.7930 - val_loss: 0.5439 - val_accuracy: 0.7344\n",
      "Epoch 00020: early stopping\n"
     ]
    }
   ],
   "source": [
    "hs = model.fit_generator(generator = train_data,\n",
    "                         steps_per_epoch = 8 ,\n",
    "                         epochs = 30,\n",
    "                         verbose = 1,\n",
    "                         validation_data= val_data,\n",
    "                         validation_steps= 16,\n",
    "                         callbacks= cb)"
   ]
  },
  {
   "cell_type": "markdown",
   "id": "3ae19f74",
   "metadata": {},
   "source": [
    "Interprétation graphique du modèle"
   ]
  },
  {
   "cell_type": "code",
   "execution_count": 38,
   "id": "993298f2",
   "metadata": {},
   "outputs": [
    {
     "data": {
      "text/plain": [
       "dict_keys(['loss', 'accuracy', 'val_loss', 'val_accuracy'])"
      ]
     },
     "execution_count": 38,
     "metadata": {},
     "output_type": "execute_result"
    }
   ],
   "source": [
    "# Model Graphical interpretation\n",
    "\n",
    "h = hs.history\n",
    "h.keys()"
   ]
  },
  {
   "cell_type": "markdown",
   "id": "cee3758c",
   "metadata": {},
   "source": [
    "Train accuracy vs Validation accuracy"
   ]
  },
  {
   "cell_type": "code",
   "execution_count": 39,
   "id": "77acbcdb",
   "metadata": {},
   "outputs": [
    {
     "data": {
      "image/png": "[encoded data removed]",
      "text/plain": [
       "<Figure size 432x288 with 1 Axes>"
      ]
     },
     "metadata": {
      "needs_background": "light"
     },
     "output_type": "display_data"
    }
   ],
   "source": [
    "import matplotlib.pyplot as plt\n",
    "\n",
    "plt.plot(h['accuracy'])\n",
    "plt.plot(h['val_accuracy'], c = 'red')\n",
    "\n",
    "plt.title(\"acc vs val_acc\")\n",
    "plt.show()"
   ]
  },
  {
   "cell_type": "markdown",
   "id": "c95b0a0d",
   "metadata": {},
   "source": [
    "Train Loss vs Validation Loss"
   ]
  },
  {
   "cell_type": "code",
   "execution_count": 40,
   "id": "105f666e",
   "metadata": {},
   "outputs": [
    {
     "data": {
      "image/png": "[encoded data removed]",
      "text/plain": [
       "<Figure size 432x288 with 1 Axes>"
      ]
     },
     "metadata": {
      "needs_background": "light"
     },
     "output_type": "display_data"
    }
   ],
   "source": [
    "plt.plot(h['loss'])\n",
    "plt.plot(h['val_loss'], c = 'red')\n",
    "\n",
    "plt.title(\"loss vs val_loss\")\n",
    "plt.show()"
   ]
  },
  {
   "cell_type": "markdown",
   "id": "6381816a",
   "metadata": {},
   "source": [
    "Importer le meilleur modèle"
   ]
  },
  {
   "cell_type": "code",
   "execution_count": 41,
   "id": "427262c0",
   "metadata": {},
   "outputs": [],
   "source": [
    "\n",
    "from keras.models import load_model\n",
    "\n",
    "model = load_model('C:/Users/zied galbi/bestmodel.h5')"
   ]
  },
  {
   "cell_type": "markdown",
   "id": "8fa162cf",
   "metadata": {},
   "source": [
    "## Model Accuracy"
   ]
  },
  {
   "cell_type": "code",
   "execution_count": 42,
   "id": "99caab34",
   "metadata": {},
   "outputs": [
    {
     "name": "stdout",
     "output_type": "stream",
     "text": [
      "WARNING:tensorflow:From <ipython-input-42-30a9a079863a>:1: Model.evaluate_generator (from tensorflow.python.keras.engine.training) is deprecated and will be removed in a future version.\n",
      "Instructions for updating:\n",
      "Please use Model.evaluate, which supports generators.\n",
      "the accuracy of our model is 80.41542768478394 %\n"
     ]
    }
   ],
   "source": [
    "acc = model.evaluate_generator(test_data)[1]\n",
    "\n",
    "print(f\"the accuracy of our model is {acc*100} %\")"
   ]
  },
  {
   "cell_type": "markdown",
   "id": "3ff7f070",
   "metadata": {},
   "source": [
    "la précision de notre modèle est de 80.415%."
   ]
  },
  {
   "cell_type": "markdown",
   "id": "3797fd6b",
   "metadata": {},
   "source": [
    "## Model Testing  "
   ]
  },
  {
   "cell_type": "code",
   "execution_count": 43,
   "id": "4b67b8dc",
   "metadata": {},
   "outputs": [],
   "source": [
    "from keras.preprocessing.image import load_img, img_to_array"
   ]
  },
  {
   "cell_type": "code",
   "execution_count": 44,
   "id": "666bacd7",
   "metadata": {},
   "outputs": [
    {
     "data": {
      "image/png": "[encoded data removed]",
      "text/plain": [
       "<Figure size 432x288 with 1 Axes>"
      ]
     },
     "metadata": {
      "needs_background": "light"
     },
     "output_type": "display_data"
    },
    {
     "name": "stdout",
     "output_type": "stream",
     "text": [
      "WARNING:tensorflow:From <ipython-input-44-ef2df90d1b48>:13: Sequential.predict_classes (from tensorflow.python.keras.engine.sequential) is deprecated and will be removed after 2021-01-01.\n",
      "Instructions for updating:\n",
      "Please use instead:* `np.argmax(model.predict(x), axis=-1)`,   if your model does multi-class classification   (e.g. if it uses a `softmax` last-layer activation).* `(model.predict(x) > 0.5).astype(\"int32\")`,   if your model does binary classification   (e.g. if it uses a `sigmoid` last-layer activation).\n",
      "the MRI is having a Tumor\n"
     ]
    }
   ],
   "source": [
    "path = \"C:/Users/zied galbi/BrainTumorData/Brain Tumor Data Set/Brain Tumor/Cancer (619).jpg\"\n",
    "\n",
    "img = load_img(path, target_size = (224,224))\n",
    "input_arr = img_to_array(img)/255\n",
    "\n",
    "plt.imshow(input_arr)\n",
    "plt.show()\n",
    "\n",
    "input_arr.shape\n",
    "\n",
    "input_arr = np.expand_dims(input_arr, axis = 0)\n",
    "\n",
    "pred = model.predict_classes(input_arr)[0][0]\n",
    "pred\n",
    "\n",
    "if pred==0:\n",
    "    print(\"the MRI is having a Tumor\")\n",
    "else :\n",
    "    print(\"the MRI is Not having a Tumor\")\n",
    "    "
   ]
  },
  {
   "cell_type": "markdown",
   "id": "f345a449",
   "metadata": {},
   "source": [
    "train_data.class_indices"
   ]
  },
  {
   "cell_type": "markdown",
   "id": "5f76c51d",
   "metadata": {},
   "source": [
    "# Transfer Learning"
   ]
  },
  {
   "cell_type": "markdown",
   "id": "9f5daf6a",
   "metadata": {},
   "source": [
    "## Model Training with MobileNet pre-trained architecture "
   ]
  },
  {
   "cell_type": "code",
   "execution_count": 48,
   "id": "c0c6bd87",
   "metadata": {},
   "outputs": [],
   "source": [
    "from keras.models import Model\n",
    "from keras.applications.mobilenet import MobileNet, preprocess_input"
   ]
  },
  {
   "cell_type": "markdown",
   "id": "08923671",
   "metadata": {},
   "source": [
    "Préparer nos images pour MobileNet"
   ]
  },
  {
   "cell_type": "code",
   "execution_count": 49,
   "id": "f498adc2",
   "metadata": {},
   "outputs": [],
   "source": [
    "def  preprocessingImages3(path):\n",
    "    \"\"\"\n",
    "    input : path\n",
    "    output : Pre processed images\n",
    "    \"\"\"\n",
    "    image_data = ImageDataGenerator(zoom_range = 0.2, shear_range= 0.2, preprocessing_function = preprocess_input, horizontal_flip= True )  # data augmentation\n",
    "    image = image_data.flow_from_directory(directory = path, target_size= (224,224), batch_size = 32, class_mode = 'binary')\n",
    "    \n",
    "    return image"
   ]
  },
  {
   "cell_type": "code",
   "execution_count": 50,
   "id": "f07097e9",
   "metadata": {},
   "outputs": [],
   "source": [
    "def  preprocessingImages4(path):\n",
    "    \"\"\"\n",
    "    input : path\n",
    "    output : Pre processed images\n",
    "    \"\"\"\n",
    "    image_data = ImageDataGenerator(preprocessing_function = preprocess_input)\n",
    "    image = image_data.flow_from_directory(directory = path, target_size= (224,224), batch_size = 32, class_mode = 'binary')\n",
    "    \n",
    "    return image"
   ]
  },
  {
   "cell_type": "code",
   "execution_count": 51,
   "id": "4d384ad9",
   "metadata": {},
   "outputs": [
    {
     "name": "stdout",
     "output_type": "stream",
     "text": [
      "Found 3151 images belonging to 2 classes.\n"
     ]
    }
   ],
   "source": [
    "path = \"C:/Users/zied galbi/train\"\n",
    "train_data_mobileNet = preprocessingImages3(path)\n",
    "\n"
   ]
  },
  {
   "cell_type": "code",
   "execution_count": 52,
   "id": "b77aa818",
   "metadata": {},
   "outputs": [
    {
     "name": "stdout",
     "output_type": "stream",
     "text": [
      "Found 674 images belonging to 2 classes.\n"
     ]
    }
   ],
   "source": [
    "path = \"C:/Users/zied galbi/val\"\n",
    "val_data_mobileNet = preprocessingImages4(path)\n",
    "\n"
   ]
  },
  {
   "cell_type": "code",
   "execution_count": 53,
   "id": "813fd5b8",
   "metadata": {},
   "outputs": [
    {
     "name": "stdout",
     "output_type": "stream",
     "text": [
      "Found 674 images belonging to 2 classes.\n"
     ]
    }
   ],
   "source": [
    "\n",
    "path = \"C:/Users/zied galbi/test\"\n",
    "test_data_mobileNet = preprocessingImages4(path)"
   ]
  },
  {
   "cell_type": "markdown",
   "id": "a455e11f",
   "metadata": {},
   "source": [
    "MobileNet Model"
   ]
  },
  {
   "cell_type": "code",
   "execution_count": 54,
   "id": "26c9cf7b",
   "metadata": {},
   "outputs": [
    {
     "name": "stdout",
     "output_type": "stream",
     "text": [
      "Downloading data from https://storage.googleapis.com/tensorflow/keras-applications/mobilenet/mobilenet_1_0_224_tf_no_top.h5\n",
      "17227776/17225924 [==============================] - 4s 0us/step\n"
     ]
    }
   ],
   "source": [
    "base_model = MobileNet(input_shape=(224,224,3), include_top = False)"
   ]
  },
  {
   "cell_type": "code",
   "execution_count": 55,
   "id": "d06a73be",
   "metadata": {},
   "outputs": [],
   "source": [
    "for layer in base_model.layers:\n",
    "    layer.trainable = False"
   ]
  },
  {
   "cell_type": "code",
   "execution_count": 56,
   "id": "366e2051",
   "metadata": {},
   "outputs": [
    {
     "name": "stdout",
     "output_type": "stream",
     "text": [
      "Model: \"mobilenet_1.00_224\"\n",
      "_________________________________________________________________\n",
      "Layer (type)                 Output Shape              Param #   \n",
      "=================================================================\n",
      "input_1 (InputLayer)         [(None, 224, 224, 3)]     0         \n",
      "_________________________________________________________________\n",
      "conv1_pad (ZeroPadding2D)    (None, 225, 225, 3)       0         \n",
      "_________________________________________________________________\n",
      "conv1 (Conv2D)               (None, 112, 112, 32)      864       \n",
      "_________________________________________________________________\n",
      "conv1_bn (BatchNormalization (None, 112, 112, 32)      128       \n",
      "_________________________________________________________________\n",
      "conv1_relu (ReLU)            (None, 112, 112, 32)      0         \n",
      "_________________________________________________________________\n",
      "conv_dw_1 (DepthwiseConv2D)  (None, 112, 112, 32)      288       \n",
      "_________________________________________________________________\n",
      "conv_dw_1_bn (BatchNormaliza (None, 112, 112, 32)      128       \n",
      "_________________________________________________________________\n",
      "conv_dw_1_relu (ReLU)        (None, 112, 112, 32)      0         \n",
      "_________________________________________________________________\n",
      "conv_pw_1 (Conv2D)           (None, 112, 112, 64)      2048      \n",
      "_________________________________________________________________\n",
      "conv_pw_1_bn (BatchNormaliza (None, 112, 112, 64)      256       \n",
      "_________________________________________________________________\n",
      "conv_pw_1_relu (ReLU)        (None, 112, 112, 64)      0         \n",
      "_________________________________________________________________\n",
      "conv_pad_2 (ZeroPadding2D)   (None, 113, 113, 64)      0         \n",
      "_________________________________________________________________\n",
      "conv_dw_2 (DepthwiseConv2D)  (None, 56, 56, 64)        576       \n",
      "_________________________________________________________________\n",
      "conv_dw_2_bn (BatchNormaliza (None, 56, 56, 64)        256       \n",
      "_________________________________________________________________\n",
      "conv_dw_2_relu (ReLU)        (None, 56, 56, 64)        0         \n",
      "_________________________________________________________________\n",
      "conv_pw_2 (Conv2D)           (None, 56, 56, 128)       8192      \n",
      "_________________________________________________________________\n",
      "conv_pw_2_bn (BatchNormaliza (None, 56, 56, 128)       512       \n",
      "_________________________________________________________________\n",
      "conv_pw_2_relu (ReLU)        (None, 56, 56, 128)       0         \n",
      "_________________________________________________________________\n",
      "conv_dw_3 (DepthwiseConv2D)  (None, 56, 56, 128)       1152      \n",
      "_________________________________________________________________\n",
      "conv_dw_3_bn (BatchNormaliza (None, 56, 56, 128)       512       \n",
      "_________________________________________________________________\n",
      "conv_dw_3_relu (ReLU)        (None, 56, 56, 128)       0         \n",
      "_________________________________________________________________\n",
      "conv_pw_3 (Conv2D)           (None, 56, 56, 128)       16384     \n",
      "_________________________________________________________________\n",
      "conv_pw_3_bn (BatchNormaliza (None, 56, 56, 128)       512       \n",
      "_________________________________________________________________\n",
      "conv_pw_3_relu (ReLU)        (None, 56, 56, 128)       0         \n",
      "_________________________________________________________________\n",
      "conv_pad_4 (ZeroPadding2D)   (None, 57, 57, 128)       0         \n",
      "_________________________________________________________________\n",
      "conv_dw_4 (DepthwiseConv2D)  (None, 28, 28, 128)       1152      \n",
      "_________________________________________________________________\n",
      "conv_dw_4_bn (BatchNormaliza (None, 28, 28, 128)       512       \n",
      "_________________________________________________________________\n",
      "conv_dw_4_relu (ReLU)        (None, 28, 28, 128)       0         \n",
      "_________________________________________________________________\n",
      "conv_pw_4 (Conv2D)           (None, 28, 28, 256)       32768     \n",
      "_________________________________________________________________\n",
      "conv_pw_4_bn (BatchNormaliza (None, 28, 28, 256)       1024      \n",
      "_________________________________________________________________\n",
      "conv_pw_4_relu (ReLU)        (None, 28, 28, 256)       0         \n",
      "_________________________________________________________________\n",
      "conv_dw_5 (DepthwiseConv2D)  (None, 28, 28, 256)       2304      \n",
      "_________________________________________________________________\n",
      "conv_dw_5_bn (BatchNormaliza (None, 28, 28, 256)       1024      \n",
      "_________________________________________________________________\n",
      "conv_dw_5_relu (ReLU)        (None, 28, 28, 256)       0         \n",
      "_________________________________________________________________\n",
      "conv_pw_5 (Conv2D)           (None, 28, 28, 256)       65536     \n",
      "_________________________________________________________________\n",
      "conv_pw_5_bn (BatchNormaliza (None, 28, 28, 256)       1024      \n",
      "_________________________________________________________________\n",
      "conv_pw_5_relu (ReLU)        (None, 28, 28, 256)       0         \n",
      "_________________________________________________________________\n",
      "conv_pad_6 (ZeroPadding2D)   (None, 29, 29, 256)       0         \n",
      "_________________________________________________________________\n",
      "conv_dw_6 (DepthwiseConv2D)  (None, 14, 14, 256)       2304      \n",
      "_________________________________________________________________\n",
      "conv_dw_6_bn (BatchNormaliza (None, 14, 14, 256)       1024      \n",
      "_________________________________________________________________\n",
      "conv_dw_6_relu (ReLU)        (None, 14, 14, 256)       0         \n",
      "_________________________________________________________________\n",
      "conv_pw_6 (Conv2D)           (None, 14, 14, 512)       131072    \n",
      "_________________________________________________________________\n",
      "conv_pw_6_bn (BatchNormaliza (None, 14, 14, 512)       2048      \n",
      "_________________________________________________________________\n",
      "conv_pw_6_relu (ReLU)        (None, 14, 14, 512)       0         \n",
      "_________________________________________________________________\n",
      "conv_dw_7 (DepthwiseConv2D)  (None, 14, 14, 512)       4608      \n",
      "_________________________________________________________________\n",
      "conv_dw_7_bn (BatchNormaliza (None, 14, 14, 512)       2048      \n",
      "_________________________________________________________________\n",
      "conv_dw_7_relu (ReLU)        (None, 14, 14, 512)       0         \n",
      "_________________________________________________________________\n",
      "conv_pw_7 (Conv2D)           (None, 14, 14, 512)       262144    \n",
      "_________________________________________________________________\n",
      "conv_pw_7_bn (BatchNormaliza (None, 14, 14, 512)       2048      \n",
      "_________________________________________________________________\n",
      "conv_pw_7_relu (ReLU)        (None, 14, 14, 512)       0         \n",
      "_________________________________________________________________\n",
      "conv_dw_8 (DepthwiseConv2D)  (None, 14, 14, 512)       4608      \n",
      "_________________________________________________________________\n",
      "conv_dw_8_bn (BatchNormaliza (None, 14, 14, 512)       2048      \n",
      "_________________________________________________________________\n",
      "conv_dw_8_relu (ReLU)        (None, 14, 14, 512)       0         \n",
      "_________________________________________________________________\n",
      "conv_pw_8 (Conv2D)           (None, 14, 14, 512)       262144    \n",
      "_________________________________________________________________\n",
      "conv_pw_8_bn (BatchNormaliza (None, 14, 14, 512)       2048      \n",
      "_________________________________________________________________\n",
      "conv_pw_8_relu (ReLU)        (None, 14, 14, 512)       0         \n",
      "_________________________________________________________________\n",
      "conv_dw_9 (DepthwiseConv2D)  (None, 14, 14, 512)       4608      \n",
      "_________________________________________________________________\n",
      "conv_dw_9_bn (BatchNormaliza (None, 14, 14, 512)       2048      \n",
      "_________________________________________________________________\n",
      "conv_dw_9_relu (ReLU)        (None, 14, 14, 512)       0         \n",
      "_________________________________________________________________\n",
      "conv_pw_9 (Conv2D)           (None, 14, 14, 512)       262144    \n",
      "_________________________________________________________________\n",
      "conv_pw_9_bn (BatchNormaliza (None, 14, 14, 512)       2048      \n",
      "_________________________________________________________________\n",
      "conv_pw_9_relu (ReLU)        (None, 14, 14, 512)       0         \n",
      "_________________________________________________________________\n",
      "conv_dw_10 (DepthwiseConv2D) (None, 14, 14, 512)       4608      \n",
      "_________________________________________________________________\n",
      "conv_dw_10_bn (BatchNormaliz (None, 14, 14, 512)       2048      \n",
      "_________________________________________________________________\n",
      "conv_dw_10_relu (ReLU)       (None, 14, 14, 512)       0         \n",
      "_________________________________________________________________\n",
      "conv_pw_10 (Conv2D)          (None, 14, 14, 512)       262144    \n",
      "_________________________________________________________________\n",
      "conv_pw_10_bn (BatchNormaliz (None, 14, 14, 512)       2048      \n",
      "_________________________________________________________________\n",
      "conv_pw_10_relu (ReLU)       (None, 14, 14, 512)       0         \n",
      "_________________________________________________________________\n",
      "conv_dw_11 (DepthwiseConv2D) (None, 14, 14, 512)       4608      \n",
      "_________________________________________________________________\n",
      "conv_dw_11_bn (BatchNormaliz (None, 14, 14, 512)       2048      \n",
      "_________________________________________________________________\n",
      "conv_dw_11_relu (ReLU)       (None, 14, 14, 512)       0         \n",
      "_________________________________________________________________\n",
      "conv_pw_11 (Conv2D)          (None, 14, 14, 512)       262144    \n",
      "_________________________________________________________________\n",
      "conv_pw_11_bn (BatchNormaliz (None, 14, 14, 512)       2048      \n",
      "_________________________________________________________________\n",
      "conv_pw_11_relu (ReLU)       (None, 14, 14, 512)       0         \n",
      "_________________________________________________________________\n",
      "conv_pad_12 (ZeroPadding2D)  (None, 15, 15, 512)       0         \n",
      "_________________________________________________________________\n",
      "conv_dw_12 (DepthwiseConv2D) (None, 7, 7, 512)         4608      \n",
      "_________________________________________________________________\n",
      "conv_dw_12_bn (BatchNormaliz (None, 7, 7, 512)         2048      \n",
      "_________________________________________________________________\n",
      "conv_dw_12_relu (ReLU)       (None, 7, 7, 512)         0         \n",
      "_________________________________________________________________\n",
      "conv_pw_12 (Conv2D)          (None, 7, 7, 1024)        524288    \n",
      "_________________________________________________________________\n",
      "conv_pw_12_bn (BatchNormaliz (None, 7, 7, 1024)        4096      \n",
      "_________________________________________________________________\n",
      "conv_pw_12_relu (ReLU)       (None, 7, 7, 1024)        0         \n",
      "_________________________________________________________________\n",
      "conv_dw_13 (DepthwiseConv2D) (None, 7, 7, 1024)        9216      \n",
      "_________________________________________________________________\n",
      "conv_dw_13_bn (BatchNormaliz (None, 7, 7, 1024)        4096      \n",
      "_________________________________________________________________\n",
      "conv_dw_13_relu (ReLU)       (None, 7, 7, 1024)        0         \n",
      "_________________________________________________________________\n",
      "conv_pw_13 (Conv2D)          (None, 7, 7, 1024)        1048576   \n",
      "_________________________________________________________________\n",
      "conv_pw_13_bn (BatchNormaliz (None, 7, 7, 1024)        4096      \n",
      "_________________________________________________________________\n",
      "conv_pw_13_relu (ReLU)       (None, 7, 7, 1024)        0         \n",
      "=================================================================\n",
      "Total params: 3,228,864\n",
      "Trainable params: 0\n",
      "Non-trainable params: 3,228,864\n",
      "_________________________________________________________________\n"
     ]
    }
   ],
   "source": [
    "base_model.summary()"
   ]
  },
  {
   "cell_type": "markdown",
   "id": "b9ce87d3",
   "metadata": {},
   "source": [
    "Ajouter une Dense layer à la fin du base model"
   ]
  },
  {
   "cell_type": "code",
   "execution_count": 59,
   "id": "7a3dba1d",
   "metadata": {},
   "outputs": [],
   "source": [
    "X = Flatten()(base_model.output)\n",
    "X = Dense(units = 1, activation = 'sigmoid')(X)\n",
    "\n",
    "model_transLearn = Model(base_model.input, X)    # modéle composé "
   ]
  },
  {
   "cell_type": "code",
   "execution_count": 60,
   "id": "5f86d400",
   "metadata": {},
   "outputs": [
    {
     "name": "stdout",
     "output_type": "stream",
     "text": [
      "Model: \"functional_1\"\n",
      "_________________________________________________________________\n",
      "Layer (type)                 Output Shape              Param #   \n",
      "=================================================================\n",
      "input_1 (InputLayer)         [(None, 224, 224, 3)]     0         \n",
      "_________________________________________________________________\n",
      "conv1_pad (ZeroPadding2D)    (None, 225, 225, 3)       0         \n",
      "_________________________________________________________________\n",
      "conv1 (Conv2D)               (None, 112, 112, 32)      864       \n",
      "_________________________________________________________________\n",
      "conv1_bn (BatchNormalization (None, 112, 112, 32)      128       \n",
      "_________________________________________________________________\n",
      "conv1_relu (ReLU)            (None, 112, 112, 32)      0         \n",
      "_________________________________________________________________\n",
      "conv_dw_1 (DepthwiseConv2D)  (None, 112, 112, 32)      288       \n",
      "_________________________________________________________________\n",
      "conv_dw_1_bn (BatchNormaliza (None, 112, 112, 32)      128       \n",
      "_________________________________________________________________\n",
      "conv_dw_1_relu (ReLU)        (None, 112, 112, 32)      0         \n",
      "_________________________________________________________________\n",
      "conv_pw_1 (Conv2D)           (None, 112, 112, 64)      2048      \n",
      "_________________________________________________________________\n",
      "conv_pw_1_bn (BatchNormaliza (None, 112, 112, 64)      256       \n",
      "_________________________________________________________________\n",
      "conv_pw_1_relu (ReLU)        (None, 112, 112, 64)      0         \n",
      "_________________________________________________________________\n",
      "conv_pad_2 (ZeroPadding2D)   (None, 113, 113, 64)      0         \n",
      "_________________________________________________________________\n",
      "conv_dw_2 (DepthwiseConv2D)  (None, 56, 56, 64)        576       \n",
      "_________________________________________________________________\n",
      "conv_dw_2_bn (BatchNormaliza (None, 56, 56, 64)        256       \n",
      "_________________________________________________________________\n",
      "conv_dw_2_relu (ReLU)        (None, 56, 56, 64)        0         \n",
      "_________________________________________________________________\n",
      "conv_pw_2 (Conv2D)           (None, 56, 56, 128)       8192      \n",
      "_________________________________________________________________\n",
      "conv_pw_2_bn (BatchNormaliza (None, 56, 56, 128)       512       \n",
      "_________________________________________________________________\n",
      "conv_pw_2_relu (ReLU)        (None, 56, 56, 128)       0         \n",
      "_________________________________________________________________\n",
      "conv_dw_3 (DepthwiseConv2D)  (None, 56, 56, 128)       1152      \n",
      "_________________________________________________________________\n",
      "conv_dw_3_bn (BatchNormaliza (None, 56, 56, 128)       512       \n",
      "_________________________________________________________________\n",
      "conv_dw_3_relu (ReLU)        (None, 56, 56, 128)       0         \n",
      "_________________________________________________________________\n",
      "conv_pw_3 (Conv2D)           (None, 56, 56, 128)       16384     \n",
      "_________________________________________________________________\n",
      "conv_pw_3_bn (BatchNormaliza (None, 56, 56, 128)       512       \n",
      "_________________________________________________________________\n",
      "conv_pw_3_relu (ReLU)        (None, 56, 56, 128)       0         \n",
      "_________________________________________________________________\n",
      "conv_pad_4 (ZeroPadding2D)   (None, 57, 57, 128)       0         \n",
      "_________________________________________________________________\n",
      "conv_dw_4 (DepthwiseConv2D)  (None, 28, 28, 128)       1152      \n",
      "_________________________________________________________________\n",
      "conv_dw_4_bn (BatchNormaliza (None, 28, 28, 128)       512       \n",
      "_________________________________________________________________\n",
      "conv_dw_4_relu (ReLU)        (None, 28, 28, 128)       0         \n",
      "_________________________________________________________________\n",
      "conv_pw_4 (Conv2D)           (None, 28, 28, 256)       32768     \n",
      "_________________________________________________________________\n",
      "conv_pw_4_bn (BatchNormaliza (None, 28, 28, 256)       1024      \n",
      "_________________________________________________________________\n",
      "conv_pw_4_relu (ReLU)        (None, 28, 28, 256)       0         \n",
      "_________________________________________________________________\n",
      "conv_dw_5 (DepthwiseConv2D)  (None, 28, 28, 256)       2304      \n",
      "_________________________________________________________________\n",
      "conv_dw_5_bn (BatchNormaliza (None, 28, 28, 256)       1024      \n",
      "_________________________________________________________________\n",
      "conv_dw_5_relu (ReLU)        (None, 28, 28, 256)       0         \n",
      "_________________________________________________________________\n",
      "conv_pw_5 (Conv2D)           (None, 28, 28, 256)       65536     \n",
      "_________________________________________________________________\n",
      "conv_pw_5_bn (BatchNormaliza (None, 28, 28, 256)       1024      \n",
      "_________________________________________________________________\n",
      "conv_pw_5_relu (ReLU)        (None, 28, 28, 256)       0         \n",
      "_________________________________________________________________\n",
      "conv_pad_6 (ZeroPadding2D)   (None, 29, 29, 256)       0         \n",
      "_________________________________________________________________\n",
      "conv_dw_6 (DepthwiseConv2D)  (None, 14, 14, 256)       2304      \n",
      "_________________________________________________________________\n",
      "conv_dw_6_bn (BatchNormaliza (None, 14, 14, 256)       1024      \n",
      "_________________________________________________________________\n",
      "conv_dw_6_relu (ReLU)        (None, 14, 14, 256)       0         \n",
      "_________________________________________________________________\n",
      "conv_pw_6 (Conv2D)           (None, 14, 14, 512)       131072    \n",
      "_________________________________________________________________\n",
      "conv_pw_6_bn (BatchNormaliza (None, 14, 14, 512)       2048      \n",
      "_________________________________________________________________\n",
      "conv_pw_6_relu (ReLU)        (None, 14, 14, 512)       0         \n",
      "_________________________________________________________________\n",
      "conv_dw_7 (DepthwiseConv2D)  (None, 14, 14, 512)       4608      \n",
      "_________________________________________________________________\n",
      "conv_dw_7_bn (BatchNormaliza (None, 14, 14, 512)       2048      \n",
      "_________________________________________________________________\n",
      "conv_dw_7_relu (ReLU)        (None, 14, 14, 512)       0         \n",
      "_________________________________________________________________\n",
      "conv_pw_7 (Conv2D)           (None, 14, 14, 512)       262144    \n",
      "_________________________________________________________________\n",
      "conv_pw_7_bn (BatchNormaliza (None, 14, 14, 512)       2048      \n",
      "_________________________________________________________________\n",
      "conv_pw_7_relu (ReLU)        (None, 14, 14, 512)       0         \n",
      "_________________________________________________________________\n",
      "conv_dw_8 (DepthwiseConv2D)  (None, 14, 14, 512)       4608      \n",
      "_________________________________________________________________\n",
      "conv_dw_8_bn (BatchNormaliza (None, 14, 14, 512)       2048      \n",
      "_________________________________________________________________\n",
      "conv_dw_8_relu (ReLU)        (None, 14, 14, 512)       0         \n",
      "_________________________________________________________________\n",
      "conv_pw_8 (Conv2D)           (None, 14, 14, 512)       262144    \n",
      "_________________________________________________________________\n",
      "conv_pw_8_bn (BatchNormaliza (None, 14, 14, 512)       2048      \n",
      "_________________________________________________________________\n",
      "conv_pw_8_relu (ReLU)        (None, 14, 14, 512)       0         \n",
      "_________________________________________________________________\n",
      "conv_dw_9 (DepthwiseConv2D)  (None, 14, 14, 512)       4608      \n",
      "_________________________________________________________________\n",
      "conv_dw_9_bn (BatchNormaliza (None, 14, 14, 512)       2048      \n",
      "_________________________________________________________________\n",
      "conv_dw_9_relu (ReLU)        (None, 14, 14, 512)       0         \n",
      "_________________________________________________________________\n",
      "conv_pw_9 (Conv2D)           (None, 14, 14, 512)       262144    \n",
      "_________________________________________________________________\n",
      "conv_pw_9_bn (BatchNormaliza (None, 14, 14, 512)       2048      \n",
      "_________________________________________________________________\n",
      "conv_pw_9_relu (ReLU)        (None, 14, 14, 512)       0         \n",
      "_________________________________________________________________\n",
      "conv_dw_10 (DepthwiseConv2D) (None, 14, 14, 512)       4608      \n",
      "_________________________________________________________________\n",
      "conv_dw_10_bn (BatchNormaliz (None, 14, 14, 512)       2048      \n",
      "_________________________________________________________________\n",
      "conv_dw_10_relu (ReLU)       (None, 14, 14, 512)       0         \n",
      "_________________________________________________________________\n",
      "conv_pw_10 (Conv2D)          (None, 14, 14, 512)       262144    \n",
      "_________________________________________________________________\n",
      "conv_pw_10_bn (BatchNormaliz (None, 14, 14, 512)       2048      \n",
      "_________________________________________________________________\n",
      "conv_pw_10_relu (ReLU)       (None, 14, 14, 512)       0         \n",
      "_________________________________________________________________\n",
      "conv_dw_11 (DepthwiseConv2D) (None, 14, 14, 512)       4608      \n",
      "_________________________________________________________________\n",
      "conv_dw_11_bn (BatchNormaliz (None, 14, 14, 512)       2048      \n",
      "_________________________________________________________________\n",
      "conv_dw_11_relu (ReLU)       (None, 14, 14, 512)       0         \n",
      "_________________________________________________________________\n",
      "conv_pw_11 (Conv2D)          (None, 14, 14, 512)       262144    \n",
      "_________________________________________________________________\n",
      "conv_pw_11_bn (BatchNormaliz (None, 14, 14, 512)       2048      \n",
      "_________________________________________________________________\n",
      "conv_pw_11_relu (ReLU)       (None, 14, 14, 512)       0         \n",
      "_________________________________________________________________\n",
      "conv_pad_12 (ZeroPadding2D)  (None, 15, 15, 512)       0         \n",
      "_________________________________________________________________\n",
      "conv_dw_12 (DepthwiseConv2D) (None, 7, 7, 512)         4608      \n",
      "_________________________________________________________________\n",
      "conv_dw_12_bn (BatchNormaliz (None, 7, 7, 512)         2048      \n",
      "_________________________________________________________________\n",
      "conv_dw_12_relu (ReLU)       (None, 7, 7, 512)         0         \n",
      "_________________________________________________________________\n",
      "conv_pw_12 (Conv2D)          (None, 7, 7, 1024)        524288    \n",
      "_________________________________________________________________\n",
      "conv_pw_12_bn (BatchNormaliz (None, 7, 7, 1024)        4096      \n",
      "_________________________________________________________________\n",
      "conv_pw_12_relu (ReLU)       (None, 7, 7, 1024)        0         \n",
      "_________________________________________________________________\n",
      "conv_dw_13 (DepthwiseConv2D) (None, 7, 7, 1024)        9216      \n",
      "_________________________________________________________________\n",
      "conv_dw_13_bn (BatchNormaliz (None, 7, 7, 1024)        4096      \n",
      "_________________________________________________________________\n",
      "conv_dw_13_relu (ReLU)       (None, 7, 7, 1024)        0         \n",
      "_________________________________________________________________\n",
      "conv_pw_13 (Conv2D)          (None, 7, 7, 1024)        1048576   \n",
      "_________________________________________________________________\n",
      "conv_pw_13_bn (BatchNormaliz (None, 7, 7, 1024)        4096      \n",
      "_________________________________________________________________\n",
      "conv_pw_13_relu (ReLU)       (None, 7, 7, 1024)        0         \n",
      "_________________________________________________________________\n",
      "flatten_3 (Flatten)          (None, 50176)             0         \n",
      "_________________________________________________________________\n",
      "dense_2 (Dense)              (None, 1)                 50177     \n",
      "=================================================================\n",
      "Total params: 3,279,041\n",
      "Trainable params: 50,177\n",
      "Non-trainable params: 3,228,864\n",
      "_________________________________________________________________\n"
     ]
    }
   ],
   "source": [
    "model_transLearn.summary()"
   ]
  },
  {
   "cell_type": "code",
   "execution_count": 61,
   "id": "91873e51",
   "metadata": {},
   "outputs": [],
   "source": [
    "# Compiler le nouveau modèle\n",
    "model_transLearn.compile(optimizer= 'rmsprop', loss = keras.losses.binary_crossentropy, metrics=['accuracy'] )"
   ]
  },
  {
   "cell_type": "code",
   "execution_count": 62,
   "id": "42ea2825",
   "metadata": {},
   "outputs": [],
   "source": [
    "\n",
    "# early stopping \n",
    "\n",
    "es_1 = EarlyStopping(monitor = 'val_accuracy', min_delta= 0.01, patience= 3, verbose = 1)\n",
    "\n",
    "# model check point\n",
    "\n",
    "mc_1 = ModelCheckpoint(monitor = 'val_accuracy',filepath='C:/Users/zied galbi/bestmodel_transLearn_.h5' , verbose = 1, save_best_only= True)\n",
    "\n",
    "cb_1 = [es_1, mc_1]"
   ]
  },
  {
   "cell_type": "code",
   "execution_count": 63,
   "id": "80b08406",
   "metadata": {},
   "outputs": [
    {
     "name": "stdout",
     "output_type": "stream",
     "text": [
      "Epoch 1/30\n",
      "8/8 [==============================] - ETA: 0s - loss: 8.1026 - accuracy: 0.6094\n",
      "Epoch 00001: val_accuracy improved from -inf to 0.84961, saving model to C:/Users/zied galbi\\bestmodel_transLearn_.h5\n",
      "8/8 [==============================] - 35s 4s/step - loss: 8.1026 - accuracy: 0.6094 - val_loss: 1.0876 - val_accuracy: 0.8496\n",
      "Epoch 2/30\n",
      "8/8 [==============================] - ETA: 0s - loss: 3.0104 - accuracy: 0.6914\n",
      "Epoch 00002: val_accuracy improved from 0.84961 to 0.86914, saving model to C:/Users/zied galbi\\bestmodel_transLearn_.h5\n",
      "8/8 [==============================] - 31s 4s/step - loss: 3.0104 - accuracy: 0.6914 - val_loss: 0.8235 - val_accuracy: 0.8691\n",
      "Epoch 3/30\n",
      "8/8 [==============================] - ETA: 0s - loss: 1.0008 - accuracy: 0.8594\n",
      "Epoch 00003: val_accuracy did not improve from 0.86914\n",
      "8/8 [==============================] - 30s 4s/step - loss: 1.0008 - accuracy: 0.8594 - val_loss: 1.3932 - val_accuracy: 0.8125\n",
      "Epoch 4/30\n",
      "8/8 [==============================] - ETA: 0s - loss: 1.8123 - accuracy: 0.7734\n",
      "Epoch 00004: val_accuracy improved from 0.86914 to 0.87500, saving model to C:/Users/zied galbi\\bestmodel_transLearn_.h5\n",
      "8/8 [==============================] - 29s 4s/step - loss: 1.8123 - accuracy: 0.7734 - val_loss: 1.0711 - val_accuracy: 0.8750\n",
      "Epoch 5/30\n",
      "8/8 [==============================] - ETA: 0s - loss: 2.0174 - accuracy: 0.7656\n",
      "Epoch 00005: val_accuracy improved from 0.87500 to 0.90039, saving model to C:/Users/zied galbi\\bestmodel_transLearn_.h5\n",
      "8/8 [==============================] - 30s 4s/step - loss: 2.0174 - accuracy: 0.7656 - val_loss: 0.7692 - val_accuracy: 0.9004\n",
      "Epoch 6/30\n",
      "8/8 [==============================] - ETA: 0s - loss: 0.7917 - accuracy: 0.9023\n",
      "Epoch 00006: val_accuracy improved from 0.90039 to 0.93164, saving model to C:/Users/zied galbi\\bestmodel_transLearn_.h5\n",
      "8/8 [==============================] - 28s 4s/step - loss: 0.7917 - accuracy: 0.9023 - val_loss: 0.3300 - val_accuracy: 0.9316\n",
      "Epoch 7/30\n",
      "8/8 [==============================] - ETA: 0s - loss: 1.0483 - accuracy: 0.8281\n",
      "Epoch 00007: val_accuracy did not improve from 0.93164\n",
      "8/8 [==============================] - 28s 4s/step - loss: 1.0483 - accuracy: 0.8281 - val_loss: 4.9009 - val_accuracy: 0.6309\n",
      "Epoch 8/30\n",
      "8/8 [==============================] - ETA: 0s - loss: 1.0127 - accuracy: 0.8867\n",
      "Epoch 00008: val_accuracy did not improve from 0.93164\n",
      "8/8 [==============================] - 30s 4s/step - loss: 1.0127 - accuracy: 0.8867 - val_loss: 0.3570 - val_accuracy: 0.9180\n",
      "Epoch 9/30\n",
      "8/8 [==============================] - ETA: 0s - loss: 0.2538 - accuracy: 0.9609\n",
      "Epoch 00009: val_accuracy did not improve from 0.93164\n",
      "8/8 [==============================] - 29s 4s/step - loss: 0.2538 - accuracy: 0.9609 - val_loss: 0.8936 - val_accuracy: 0.8594\n",
      "Epoch 00009: early stopping\n"
     ]
    }
   ],
   "source": [
    "hs_1 = model_transLearn.fit_generator(generator = train_data_mobileNet,\n",
    "                         steps_per_epoch = 8 ,\n",
    "                         epochs = 30,\n",
    "                         verbose = 1,\n",
    "                         validation_data= val_data_mobileNet,\n",
    "                         validation_steps= 16,\n",
    "                         callbacks= cb_1)"
   ]
  },
  {
   "cell_type": "code",
   "execution_count": 64,
   "id": "706340e6",
   "metadata": {},
   "outputs": [],
   "source": [
    "# load the best model\n",
    "\n",
    "model_transLearn = load_model('C:/Users/zied galbi/bestmodel_transLearn_.h5')"
   ]
  },
  {
   "cell_type": "code",
   "execution_count": 65,
   "id": "b2c76b09",
   "metadata": {},
   "outputs": [
    {
     "name": "stdout",
     "output_type": "stream",
     "text": [
      "the accuracy of our model is 94.21365261077881 %\n"
     ]
    }
   ],
   "source": [
    "# Accuracy of our model\n",
    "\n",
    "acc_1 = model_transLearn.evaluate_generator(test_data_mobileNet)[1]\n",
    "\n",
    "print(f\"the accuracy of our model is {acc_1*100} %\")"
   ]
  },
  {
   "cell_type": "markdown",
   "id": "e00768a9",
   "metadata": {},
   "source": [
    "accuracy inreased by 14% !!! From 80.41% to 94.21%"
   ]
  },
  {
   "cell_type": "code",
   "execution_count": 71,
   "id": "dddc9c27",
   "metadata": {},
   "outputs": [
    {
     "data": {
      "image/png": "[encoded data removed]",
      "text/plain": [
       "<Figure size 432x288 with 1 Axes>"
      ]
     },
     "metadata": {
      "needs_background": "light"
     },
     "output_type": "display_data"
    }
   ],
   "source": [
    "plt.plot(hs_1.history['accuracy'])\n",
    "plt.plot(hs_1.history['val_accuracy'], c = 'red')\n",
    "\n",
    "plt.title(\"acc vs val_acc\")\n",
    "plt.show()"
   ]
  },
  {
   "cell_type": "code",
   "execution_count": 72,
   "id": "5551f3cf",
   "metadata": {},
   "outputs": [
    {
     "data": {
      "image/png": "[encoded data removed]",
      "text/plain": [
       "<Figure size 432x288 with 1 Axes>"
      ]
     },
     "metadata": {
      "needs_background": "light"
     },
     "output_type": "display_data"
    }
   ],
   "source": [
    "plt.plot(hs_1.history['loss'])\n",
    "plt.plot(hs_1.history['val_loss'], c = 'red')\n",
    "\n",
    "plt.title(\"loss vs val_loss\")\n",
    "plt.show()"
   ]
  },
  {
   "cell_type": "code",
   "execution_count": 82,
   "id": "282d5f12",
   "metadata": {},
   "outputs": [
    {
     "name": "stdout",
     "output_type": "stream",
     "text": [
      "the MRI is having a Tumor\n"
     ]
    },
    {
     "data": {
      "image/png": "[encoded data removed]",
      "text/plain": [
       "<Figure size 432x288 with 1 Axes>"
      ]
     },
     "metadata": {
      "needs_background": "light"
     },
     "output_type": "display_data"
    }
   ],
   "source": [
    "# path for the image to see if it predicts correct class\n",
    "\n",
    "path_1 = \"C:/Users/zied galbi/BrainTumorData/Brain Tumor Data Set/Brain Tumor/Cancer (2310).jpg\"\n",
    "\n",
    "img_1 = load_img(path_1, target_size = (224,224))\n",
    "i = img_to_array(img_1)/255\n",
    "\n",
    "\n",
    "\n",
    "input_arr = np.array([i])  #expand dimension for proper model input\n",
    "input_arr.shape\n",
    "\n",
    "pred = np.argmax(model_transLearn.predict(input_arr))\n",
    "\n",
    "\n",
    "if pred==0:\n",
    "    print(\"the MRI is having a Tumor\")\n",
    "else :\n",
    "    print(\"the MRI is Not having a Tumor\")\n",
    "    \n",
    "# to display the image   \n",
    "plt.imshow(input_arr[0])\n",
    "plt.title(\"input image\")\n",
    "plt.show()\n",
    "    \n",
    "    "
   ]
  }
 ],
 "metadata": {
  "kernelspec": {
   "display_name": "Python 3",
   "language": "python",
   "name": "python3"
  },
  "language_info": {
   "codemirror_mode": {
    "name": "ipython",
    "version": 3
   },
   "file_extension": ".py",
   "mimetype": "text/x-python",
   "name": "python",
   "nbconvert_exporter": "python",
   "pygments_lexer": "ipython3",
   "version": "3.8.8"
  }
 },
 "nbformat": 4,
 "nbformat_minor": 5
}
